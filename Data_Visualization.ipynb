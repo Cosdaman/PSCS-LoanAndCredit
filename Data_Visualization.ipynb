{
 "cells": [
  {
   "cell_type": "code",
   "execution_count": 28,
   "metadata": {},
   "outputs": [],
   "source": [
    "from dotenv import dotenv_values\n",
    "from pyspark.sql import SparkSession\n",
    "import matplotlib.pyplot as plt\n",
    "import numpy as np\n",
    "spark = SparkSession.builder.master(\n",
    "    \"local[*]\").appName(\"Kevin Ang Data Visualization\").getOrCreate()\n",
    "\n",
    "config = dotenv_values(\".env\")\n",
    "dbuser = config[\"dbuser\"]\n",
    "dbpass = config[\"dbpass\"]\n"
   ]
  },
  {
   "cell_type": "code",
   "execution_count": 73,
   "metadata": {},
   "outputs": [],
   "source": [
    "cc_df = spark.read.format(\"jdbc\").options(driver=\"com.mysql.cj.jdbc.Driver\",\n",
    "                                       user=\"root\",\n",
    "                                       password=\"root\",\n",
    "                                       url=\"jdbc:mysql://localhost:3306/creditcard_capstone\",\n",
    "                                       dbtable=\"creditcard_capstone.CDW_SAPP_CREDIT_CARD\").load()\n",
    "\n",
    "cust_df = spark.read.format(\"jdbc\").options(driver=\"com.mysql.cj.jdbc.Driver\",\n",
    "                                       user=\"root\",\n",
    "                                       password=\"root\",\n",
    "                                       url=\"jdbc:mysql://localhost:3306/creditcard_capstone\",\n",
    "                                       dbtable=\"creditcard_capstone.CDW_SAPP_CUSTOMER\").load()                             \n"
   ]
  },
  {
   "cell_type": "code",
   "execution_count": 95,
   "metadata": {},
   "outputs": [
    {
     "data": {
      "image/png": "[encoded data removed]",
      "text/plain": [
       "<Figure size 432x288 with 1 Axes>"
      ]
     },
     "metadata": {
      "needs_background": "light"
     },
     "output_type": "display_data"
    }
   ],
   "source": [
    "# Find and plot which transaction type has a high rate of transactions.\n",
    "pandas_cc_df = cc_df.toPandas()\n",
    "pandas_cc_df = pandas_cc_df[['TRANSACTION_TYPE', 'CUST_CC_NO']].groupby(\n",
    "    'TRANSACTION_TYPE').count().sort_values('CUST_CC_NO')\n",
    "cc_plot = pandas_cc_df.plot(kind='barh',\n",
    "                               title='Number of Transactions per Type',\n",
    "                               xlabel='Transaction Type')\n",
    "cc_plot.legend(['Number of Transactions'],\n",
    "                  loc='center left', bbox_to_anchor=(1.0, 0.5))\n",
    "cc_plot.bar_label(cc_plot.containers[0])\n",
    "plt.xlim([pandas_cc_df.min().values[0]*0.95,\n",
    "         pandas_cc_df.max().values[0]*1.05])\n",
    "\n",
    "plt.show()\n"
   ]
  },
  {
   "cell_type": "code",
   "execution_count": 102,
   "metadata": {},
   "outputs": [
    {
     "data": {
      "text/html": [
       "<div>\n",
       "<style scoped>\n",
       "    .dataframe tbody tr th:only-of-type {\n",
       "        vertical-align: middle;\n",
       "    }\n",
       "\n",
       "    .dataframe tbody tr th {\n",
       "        vertical-align: top;\n",
       "    }\n",
       "\n",
       "    .dataframe thead th {\n",
       "        text-align: right;\n",
       "    }\n",
       "</style>\n",
       "<table border=\"1\" class=\"dataframe\">\n",
       "  <thead>\n",
       "    <tr style=\"text-align: right;\">\n",
       "      <th></th>\n",
       "      <th>SSN</th>\n",
       "    </tr>\n",
       "    <tr>\n",
       "      <th>CUST_STATE</th>\n",
       "      <th></th>\n",
       "    </tr>\n",
       "  </thead>\n",
       "  <tbody>\n",
       "    <tr>\n",
       "      <th>NY</th>\n",
       "      <td>96</td>\n",
       "    </tr>\n",
       "    <tr>\n",
       "      <th>GA</th>\n",
       "      <td>73</td>\n",
       "    </tr>\n",
       "    <tr>\n",
       "      <th>PA</th>\n",
       "      <td>72</td>\n",
       "    </tr>\n",
       "    <tr>\n",
       "      <th>FL</th>\n",
       "      <td>64</td>\n",
       "    </tr>\n",
       "    <tr>\n",
       "      <th>IL</th>\n",
       "      <td>58</td>\n",
       "    </tr>\n",
       "    <tr>\n",
       "      <th>NJ</th>\n",
       "      <td>53</td>\n",
       "    </tr>\n",
       "    <tr>\n",
       "      <th>MD</th>\n",
       "      <td>50</td>\n",
       "    </tr>\n",
       "    <tr>\n",
       "      <th>CA</th>\n",
       "      <td>45</td>\n",
       "    </tr>\n",
       "    <tr>\n",
       "      <th>MI</th>\n",
       "      <td>44</td>\n",
       "    </tr>\n",
       "    <tr>\n",
       "      <th>OH</th>\n",
       "      <td>44</td>\n",
       "    </tr>\n",
       "    <tr>\n",
       "      <th>VA</th>\n",
       "      <td>39</td>\n",
       "    </tr>\n",
       "    <tr>\n",
       "      <th>NC</th>\n",
       "      <td>37</td>\n",
       "    </tr>\n",
       "    <tr>\n",
       "      <th>TX</th>\n",
       "      <td>33</td>\n",
       "    </tr>\n",
       "    <tr>\n",
       "      <th>MA</th>\n",
       "      <td>33</td>\n",
       "    </tr>\n",
       "    <tr>\n",
       "      <th>SC</th>\n",
       "      <td>30</td>\n",
       "    </tr>\n",
       "    <tr>\n",
       "      <th>WI</th>\n",
       "      <td>29</td>\n",
       "    </tr>\n",
       "    <tr>\n",
       "      <th>MN</th>\n",
       "      <td>28</td>\n",
       "    </tr>\n",
       "    <tr>\n",
       "      <th>MS</th>\n",
       "      <td>24</td>\n",
       "    </tr>\n",
       "    <tr>\n",
       "      <th>IA</th>\n",
       "      <td>21</td>\n",
       "    </tr>\n",
       "    <tr>\n",
       "      <th>KY</th>\n",
       "      <td>17</td>\n",
       "    </tr>\n",
       "    <tr>\n",
       "      <th>WA</th>\n",
       "      <td>16</td>\n",
       "    </tr>\n",
       "    <tr>\n",
       "      <th>CT</th>\n",
       "      <td>14</td>\n",
       "    </tr>\n",
       "    <tr>\n",
       "      <th>IN</th>\n",
       "      <td>13</td>\n",
       "    </tr>\n",
       "    <tr>\n",
       "      <th>MT</th>\n",
       "      <td>9</td>\n",
       "    </tr>\n",
       "    <tr>\n",
       "      <th>AR</th>\n",
       "      <td>5</td>\n",
       "    </tr>\n",
       "    <tr>\n",
       "      <th>AL</th>\n",
       "      <td>5</td>\n",
       "    </tr>\n",
       "  </tbody>\n",
       "</table>\n",
       "</div>"
      ],
      "text/plain": [
       "            SSN\n",
       "CUST_STATE     \n",
       "NY           96\n",
       "GA           73\n",
       "PA           72\n",
       "FL           64\n",
       "IL           58\n",
       "NJ           53\n",
       "MD           50\n",
       "CA           45\n",
       "MI           44\n",
       "OH           44\n",
       "VA           39\n",
       "NC           37\n",
       "TX           33\n",
       "MA           33\n",
       "SC           30\n",
       "WI           29\n",
       "MN           28\n",
       "MS           24\n",
       "IA           21\n",
       "KY           17\n",
       "WA           16\n",
       "CT           14\n",
       "IN           13\n",
       "MT            9\n",
       "AR            5\n",
       "AL            5"
      ]
     },
     "execution_count": 102,
     "metadata": {},
     "output_type": "execute_result"
    }
   ],
   "source": [
    "# Find and plot which state has a high number of customers.\n",
    "pandas_cust_df = cust_df.toPandas()\n",
    "pandas_cust_df = pandas_cust_df[['SSN', 'CUST_STATE']].groupby(\n",
    "    'CUST_STATE').count().sort_values('SSN',ascending=False)\n"
   ]
  },
  {
   "cell_type": "code",
   "execution_count": null,
   "metadata": {},
   "outputs": [],
   "source": [
    "# Find and plot the sum of all transactions for each customer, and which customer has the highest transaction amount.\n",
    "# hint(use CUST_SSN).\n"
   ]
  },
  {
   "cell_type": "code",
   "execution_count": null,
   "metadata": {},
   "outputs": [],
   "source": [
    "# Find and plot the top three months with the largest transaction data.\n"
   ]
  },
  {
   "cell_type": "code",
   "execution_count": null,
   "metadata": {},
   "outputs": [],
   "source": [
    "# Find and plot which branch processed the highest total dollar value of healthcare transactions.\n"
   ]
  }
 ],
 "metadata": {
  "kernelspec": {
   "display_name": "Python 3.10.5 64-bit",
   "language": "python",
   "name": "python3"
  },
  "language_info": {
   "codemirror_mode": {
    "name": "ipython",
    "version": 3
   },
   "file_extension": ".py",
   "mimetype": "text/x-python",
   "name": "python",
   "nbconvert_exporter": "python",
   "pygments_lexer": "ipython3",
   "version": "3.10.5"
  },
  "orig_nbformat": 4,
  "vscode": {
   "interpreter": {
    "hash": "834c4097eaf5e1328bc82ef3f9b520a76fb3ea0ad6d829ddf1981d09f282e8d5"
   }
  }
 },
 "nbformat": 4,
 "nbformat_minor": 2
}
