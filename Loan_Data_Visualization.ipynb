{
 "cells": [
  {
   "cell_type": "code",
   "execution_count": 70,
   "metadata": {},
   "outputs": [],
   "source": [
    "from dotenv import dotenv_values\n",
    "from pyspark.sql import SparkSession\n",
    "import matplotlib.pyplot as plt\n",
    "import numpy as np\n",
    "import pandas as pd\n",
    "spark = SparkSession.builder.master(\n",
    "    \"local[*]\").appName(\"Kevin Ang Data Visualization\").getOrCreate()\n",
    "\n",
    "config = dotenv_values(\".env\")\n",
    "dbuser = config[\"dbuser\"]\n",
    "dbpass = config[\"dbpass\"]\n"
   ]
  },
  {
   "cell_type": "code",
   "execution_count": 63,
   "metadata": {},
   "outputs": [],
   "source": [
    "loan_df = spark.read.format(\"jdbc\").options(driver=\"com.mysql.cj.jdbc.Driver\",\n",
    "                                            user=dbuser,\n",
    "                                            password=dbpass,\n",
    "                                            url=\"jdbc:mysql://localhost:3306/creditcard_capstone\",\n",
    "                                            dbtable=\"creditcard_capstone.CDW_SAPP_LOAN_APPLICATION\").load()\n",
    "\n",
    "loan_pandas_df = loan_df.toPandas()\n",
    "\n",
    "columns = ['Gender', 'Married', 'Income', 'Application_Status']\n",
    "reduced_df = loan_pandas_df[columns]\n",
    "reduced_df_filtered = reduced_df[(reduced_df['Married'] == 'Yes') & (\n",
    "    reduced_df['Application_Status'] == 'Y')]\n",
    "\n",
    "reduced_df_filtered = reduced_df_filtered[['Gender', 'Income']]\n",
    "male_df_filtered = reduced_df_filtered[reduced_df_filtered['Gender'] == 'Male']\n",
    "female_df_filtered = reduced_df_filtered[reduced_df_filtered['Gender'] == 'Female']\n",
    "\n",
    "incomeBrackets = reduced_df_filtered['Income'].unique()\n",
    "\n",
    "male_data = male_df_filtered.groupby('Income').count().reindex(incomeBrackets)\n",
    "female_data = female_df_filtered.groupby(\n",
    "    'Income').count().reindex(incomeBrackets)\n",
    "\n",
    "male_data = male_data['Gender'].values.tolist()\n",
    "female_data = female_data['Gender'].values.tolist()\n",
    "\n",
    "app_df = pd.DataFrame({'Income': incomeBrackets,\n",
    "                       'Male': male_data,\n",
    "                       'Female': female_data\n",
    "                       })\n",
    "\n"
   ]
  },
  {
   "cell_type": "code",
   "execution_count": 118,
   "metadata": {},
   "outputs": [
    {
     "data": {
      "image/png": "[encoded data removed]",
      "text/plain": [
       "<Figure size 432x288 with 1 Axes>"
      ]
     },
     "metadata": {
      "needs_background": "light"
     },
     "output_type": "display_data"
    }
   ],
   "source": [
    "applications_plot = app_df.plot(x=\"Income\",kind='bar')\n",
    "\n",
    "applications_plot.bar_label(applications_plot.containers[0])\n",
    "applications_plot.bar_label(applications_plot.containers[1])\n",
    "\n",
    "plt.show()"
   ]
  },
  {
   "cell_type": "code",
   "execution_count": null,
   "metadata": {},
   "outputs": [],
   "source": []
  }
 ],
 "metadata": {
  "kernelspec": {
   "display_name": "Python 3.10.5 64-bit",
   "language": "python",
   "name": "python3"
  },
  "language_info": {
   "codemirror_mode": {
    "name": "ipython",
    "version": 3
   },
   "file_extension": ".py",
   "mimetype": "text/x-python",
   "name": "python",
   "nbconvert_exporter": "python",
   "pygments_lexer": "ipython3",
   "version": "3.10.5"
  },
  "orig_nbformat": 4,
  "vscode": {
   "interpreter": {
    "hash": "834c4097eaf5e1328bc82ef3f9b520a76fb3ea0ad6d829ddf1981d09f282e8d5"
   }
  }
 },
 "nbformat": 4,
 "nbformat_minor": 2
}
